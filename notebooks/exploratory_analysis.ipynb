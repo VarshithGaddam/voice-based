import pandas as pd
import seaborn as sns
import matplotlib.pyplot as plt

# Load processed data
file_path = "../data/processed/features_output.csv"
df = pd.read_csv(file_path)

# Correlation heatmap
plt.figure(figsize=(12, 8))
sns.heatmap(df.drop(columns=['sample_id', 'cluster', 'anomaly']).corr(), annot=True, cmap="coolwarm")
plt.title("Feature Correlation Heatmap")
plt.tight_layout()
plt.show()

# Cluster distribution
sns.countplot(x="cluster", data=df)
plt.title("Cluster Distribution")
plt.show()

# Anomaly distribution
sns.countplot(x="anomaly", data=df)
plt.title("Anomaly Distribution")
plt.show()

# Pairplot
selected = ["pause_avg_duration", "speech_rate", "semantic_similarity", "lexical_diversity", "cluster"]
sns.pairplot(df[selected], hue="cluster")
plt.suptitle("Pairwise Feature Comparison", y=1.02)
plt.show()

# Boxplot for risk score vs features
for col in ["pause_count", "semantic_similarity", "lexical_diversity"]:
    sns.boxplot(x="risk_score", y=col, data=df)
    plt.title(f"{col} vs Risk Score")
    plt.show()